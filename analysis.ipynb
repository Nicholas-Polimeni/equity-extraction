{
 "cells": [
  {
   "cell_type": "markdown",
   "metadata": {},
   "source": [
    "# Equity Loss Analysis for Atlanta MSA\n",
    "\n",
    "## Data Sources\n",
    "- Fulton County digest parcel data from 2011 to 2022 (selected for LUC=101, SFHs), excel\n",
    "- Fulton County digest parcel data for 2022 (for geocoding), geojson\n",
    "- Fulton County sales data from 2011 to 2022, txt\n",
    "- Atlanta Neighborhood Statistical Areas with supplemental data from Census (), 2022, csv from Neighborhood Nexus\n",
    "- Neighborhood characteristics? unknown\n",
    "\n",
    "**Note: NSAs in DeKalb are excluded, we do not have data for all years**\n",
    "\n",
    "Those neighborhoods are:\n",
    "- Candler Park, Druid Hills\n",
    "- Lake Claire\n",
    "- East Lake\n",
    "- Kirkwood\n",
    "- Edgewood\n",
    "- East Atlanta\n",
    "- Emory University/Center for Disease Control\n",
    "- Part of Morningside/Lenox Park\n",
    "\n",
    "This leaves _ neighborhoods (see appendix for list)\n",
    "\n",
    "## Areas of Analysis\n",
    "- Corporate power in buying and purchasing (stat significance in purachsing price diff?)\n",
    "- Corporate profits from rentals\n",
    "- Corporate concentration\n",
    "- Neighborhood characteristics?\n",
    "\n",
    "- Sum of buying, selling -> all sales\n",
    "- Sum of holding -> all parcels\n",
    "- Create a cumulative measure and normalized by neighborhood context\n",
    "- Take distribution of all sales to ind, corp and compare to see if statistically significant\n",
    "- Correlate to neighborhood characteristics\n",
    "- Predict based on neighborhood characteristics\n",
    "- Geospatial for each neighborhood\n",
    "- Foreclosure rate "
   ]
  },
  {
   "cell_type": "code",
   "execution_count": 24,
   "metadata": {},
   "outputs": [],
   "source": [
    "import os\n",
    "import pandas as pd\n",
    "import geopandas as gpd\n",
    "\n",
    "pd.set_option('display.max_columns', 150)\n",
    "pd.options.display.float_format = '{:.2f}'.format"
   ]
  },
  {
   "cell_type": "code",
   "execution_count": 25,
   "metadata": {},
   "outputs": [],
   "source": [
    "fulton_sales_all = pd.read_parquet(\"./output/fulton_sales_all.parquet\")"
   ]
  },
  {
   "cell_type": "code",
   "execution_count": 64,
   "metadata": {},
   "outputs": [],
   "source": [
    "digest_full_geo_nbhd = pd.read_parquet(\"./output/digest_full_geo_nbhd.parquet\")"
   ]
  },
  {
   "cell_type": "markdown",
   "metadata": {},
   "source": [
    "First lets calculate sales in and out, for that we need to identify corp and size of corp; size of corp needs to be an agg measure of properties owned count in parcel data for the given year in neighborhood, in ATL, and in Fulton IN THE GIVEN YEAR\n",
    "\n",
    "so we do that via parcel data then when that parcel is transacted, we use those values"
   ]
  },
  {
   "cell_type": "code",
   "execution_count": 47,
   "metadata": {},
   "outputs": [
    {
     "data": {
      "text/html": [
       "<div>\n",
       "<style scoped>\n",
       "    .dataframe tbody tr th:only-of-type {\n",
       "        vertical-align: middle;\n",
       "    }\n",
       "\n",
       "    .dataframe tbody tr th {\n",
       "        vertical-align: top;\n",
       "    }\n",
       "\n",
       "    .dataframe thead th {\n",
       "        text-align: right;\n",
       "    }\n",
       "</style>\n",
       "<table border=\"1\" class=\"dataframe\">\n",
       "  <thead>\n",
       "    <tr style=\"text-align: right;\">\n",
       "      <th></th>\n",
       "      <th>PARID</th>\n",
       "      <th>OBJECTID</th>\n",
       "      <th>geometry</th>\n",
       "      <th>TAXYR</th>\n",
       "      <th>Situs Adrno</th>\n",
       "      <th>Situs Adrdir</th>\n",
       "      <th>Situs Adrstr</th>\n",
       "      <th>Situs Adrsuf</th>\n",
       "      <th>Cityname</th>\n",
       "      <th>Luc</th>\n",
       "      <th>Calcacres</th>\n",
       "      <th>Own1</th>\n",
       "      <th>Own2</th>\n",
       "      <th>Owner Adrno</th>\n",
       "      <th>Owner Adradd</th>\n",
       "      <th>Owner Adrdir</th>\n",
       "      <th>Owner Adrstr</th>\n",
       "      <th>Owner Adrsuf</th>\n",
       "      <th>own_cityname</th>\n",
       "      <th>Statecode</th>\n",
       "      <th>own_zip</th>\n",
       "      <th>D Yrblt</th>\n",
       "      <th>D Effyr</th>\n",
       "      <th>D Yrremod</th>\n",
       "      <th>Sfla</th>\n",
       "      <th>neighborhood</th>\n",
       "    </tr>\n",
       "  </thead>\n",
       "  <tbody>\n",
       "    <tr>\n",
       "      <th>1550937</th>\n",
       "      <td>17 0227  LL0655</td>\n",
       "      <td>196856</td>\n",
       "      <td>b\"\\x01\\x03\\x00\\x00\\x00\\x01\\x00\\x00\\x00\\x06\\x00...</td>\n",
       "      <td>2021</td>\n",
       "      <td>965.0</td>\n",
       "      <td></td>\n",
       "      <td>WESTMORELAND</td>\n",
       "      <td>CIR</td>\n",
       "      <td>ATLANTA</td>\n",
       "      <td>101</td>\n",
       "      <td>0.12</td>\n",
       "      <td>CORKER REGINA &amp;</td>\n",
       "      <td>CORKER RASHAD</td>\n",
       "      <td>965.0</td>\n",
       "      <td></td>\n",
       "      <td></td>\n",
       "      <td>WESTMORELAND</td>\n",
       "      <td>CIR</td>\n",
       "      <td>ATLANTA</td>\n",
       "      <td>GA</td>\n",
       "      <td>30316</td>\n",
       "      <td>2007</td>\n",
       "      <td>0</td>\n",
       "      <td>0</td>\n",
       "      <td>2556.00</td>\n",
       "      <td>Carver Hills, Rockdale, Scotts Crossing, West ...</td>\n",
       "    </tr>\n",
       "    <tr>\n",
       "      <th>2678358</th>\n",
       "      <td>12 304008700578</td>\n",
       "      <td>540029</td>\n",
       "      <td>b\"\\x01\\x03\\x00\\x00\\x00\\x01\\x00\\x00\\x00\\x10\\x00...</td>\n",
       "      <td>2015</td>\n",
       "      <td>205.0</td>\n",
       "      <td></td>\n",
       "      <td>ROD</td>\n",
       "      <td>CT</td>\n",
       "      <td>FUL</td>\n",
       "      <td>101</td>\n",
       "      <td>0.42</td>\n",
       "      <td>TODD HAROLD B III &amp; KELLY T</td>\n",
       "      <td></td>\n",
       "      <td>205.0</td>\n",
       "      <td></td>\n",
       "      <td></td>\n",
       "      <td>ROD</td>\n",
       "      <td>CT</td>\n",
       "      <td>ALPHARETTA</td>\n",
       "      <td>GA</td>\n",
       "      <td>30022</td>\n",
       "      <td>1996</td>\n",
       "      <td>0</td>\n",
       "      <td>0</td>\n",
       "      <td>3844.00</td>\n",
       "      <td>None</td>\n",
       "    </tr>\n",
       "    <tr>\n",
       "      <th>1819072</th>\n",
       "      <td>14 015200140092</td>\n",
       "      <td>242291</td>\n",
       "      <td>b'\\x01\\x03\\x00\\x00\\x00\\x01\\x00\\x00\\x00\\x05\\x00...</td>\n",
       "      <td>2017</td>\n",
       "      <td>1233.0</td>\n",
       "      <td></td>\n",
       "      <td>LOCKWOOD</td>\n",
       "      <td>DR</td>\n",
       "      <td>ATL</td>\n",
       "      <td>101</td>\n",
       "      <td>0.23</td>\n",
       "      <td>MILLER STANLEY</td>\n",
       "      <td></td>\n",
       "      <td>1233.0</td>\n",
       "      <td></td>\n",
       "      <td></td>\n",
       "      <td>LOCKWOOD</td>\n",
       "      <td>DR</td>\n",
       "      <td>ATLANTA</td>\n",
       "      <td>GA</td>\n",
       "      <td>30311</td>\n",
       "      <td>1955</td>\n",
       "      <td>0</td>\n",
       "      <td>0</td>\n",
       "      <td>920.00</td>\n",
       "      <td>Fort McPherson, Venetian Hills</td>\n",
       "    </tr>\n",
       "  </tbody>\n",
       "</table>\n",
       "</div>"
      ],
      "text/plain": [
       "                   PARID  OBJECTID  \\\n",
       "1550937  17 0227  LL0655    196856   \n",
       "2678358  12 304008700578    540029   \n",
       "1819072  14 015200140092    242291   \n",
       "\n",
       "                                                  geometry  TAXYR Situs Adrno  \\\n",
       "1550937  b\"\\x01\\x03\\x00\\x00\\x00\\x01\\x00\\x00\\x00\\x06\\x00...   2021       965.0   \n",
       "2678358  b\"\\x01\\x03\\x00\\x00\\x00\\x01\\x00\\x00\\x00\\x10\\x00...   2015       205.0   \n",
       "1819072  b'\\x01\\x03\\x00\\x00\\x00\\x01\\x00\\x00\\x00\\x05\\x00...   2017      1233.0   \n",
       "\n",
       "        Situs Adrdir  Situs Adrstr Situs Adrsuf Cityname  Luc  Calcacres  \\\n",
       "1550937               WESTMORELAND          CIR  ATLANTA  101       0.12   \n",
       "2678358                        ROD           CT      FUL  101       0.42   \n",
       "1819072                   LOCKWOOD           DR      ATL  101       0.23   \n",
       "\n",
       "                                Own1           Own2 Owner Adrno Owner Adradd  \\\n",
       "1550937              CORKER REGINA &  CORKER RASHAD       965.0                \n",
       "2678358  TODD HAROLD B III & KELLY T                      205.0                \n",
       "1819072               MILLER STANLEY                     1233.0                \n",
       "\n",
       "        Owner Adrdir  Owner Adrstr Owner Adrsuf own_cityname Statecode  \\\n",
       "1550937               WESTMORELAND          CIR      ATLANTA        GA   \n",
       "2678358                        ROD           CT   ALPHARETTA        GA   \n",
       "1819072                   LOCKWOOD           DR      ATLANTA        GA   \n",
       "\n",
       "        own_zip  D Yrblt  D Effyr  D Yrremod    Sfla  \\\n",
       "1550937   30316     2007        0          0 2556.00   \n",
       "2678358   30022     1996        0          0 3844.00   \n",
       "1819072   30311     1955        0          0  920.00   \n",
       "\n",
       "                                              neighborhood  \n",
       "1550937  Carver Hills, Rockdale, Scotts Crossing, West ...  \n",
       "2678358                                               None  \n",
       "1819072                     Fort McPherson, Venetian Hills  "
      ]
     },
     "execution_count": 47,
     "metadata": {},
     "output_type": "execute_result"
    }
   ],
   "source": [
    "digest_full_geo_nbhd.sample(3)"
   ]
  },
  {
   "cell_type": "code",
   "execution_count": null,
   "metadata": {},
   "outputs": [],
   "source": [
    "# TODO: drop invalid sale codes or deed types and non-arms length (low sales price)\n",
    "# TODO: foreclosures?"
   ]
  },
  {
   "cell_type": "code",
   "execution_count": 65,
   "metadata": {},
   "outputs": [
    {
     "ename": "ValueError",
     "evalue": "Columns must be same length as key",
     "output_type": "error",
     "traceback": [
      "\u001b[1;31m---------------------------------------------------------------------------\u001b[0m",
      "\u001b[1;31mValueError\u001b[0m                                Traceback (most recent call last)",
      "\u001b[1;32m~\\AppData\\Local\\Temp\\ipykernel_24116\\1820677313.py\u001b[0m in \u001b[0;36m?\u001b[1;34m()\u001b[0m\n\u001b[0;32m      1\u001b[0m \u001b[1;31m# TODO change owner adrno in data processing to int\u001b[0m\u001b[1;33m\u001b[0m\u001b[1;33m\u001b[0m\u001b[0m\n\u001b[0;32m      2\u001b[0m \u001b[1;33m\u001b[0m\u001b[0m\n\u001b[1;32m----> 3\u001b[1;33m digest_full_geo_nbhd[\"Owner Adrno\"] = digest_full_geo_nbhd.where(\n\u001b[0m\u001b[0;32m      4\u001b[0m     \u001b[0mdigest_full_geo_nbhd\u001b[0m\u001b[1;33m[\u001b[0m\u001b[1;34m\"Owner Adrno\"\u001b[0m\u001b[1;33m]\u001b[0m \u001b[1;33m!=\u001b[0m \u001b[1;34m\"\"\u001b[0m\u001b[1;33m,\u001b[0m \u001b[1;34m\"0\"\u001b[0m\u001b[1;33m,\u001b[0m\u001b[1;33m\u001b[0m\u001b[1;33m\u001b[0m\u001b[0m\n\u001b[0;32m      5\u001b[0m \u001b[1;33m)\u001b[0m\u001b[1;33m\u001b[0m\u001b[1;33m\u001b[0m\u001b[0m\n",
      "\u001b[1;32mc:\\Users\\Nick\\Documents\\code\\equity-extraction\\equity-extraction\\Lib\\site-packages\\pandas\\core\\frame.py\u001b[0m in \u001b[0;36m?\u001b[1;34m(self, key, value)\u001b[0m\n\u001b[0;32m   4077\u001b[0m             \u001b[0mself\u001b[0m\u001b[1;33m.\u001b[0m\u001b[0m_setitem_frame\u001b[0m\u001b[1;33m(\u001b[0m\u001b[0mkey\u001b[0m\u001b[1;33m,\u001b[0m \u001b[0mvalue\u001b[0m\u001b[1;33m)\u001b[0m\u001b[1;33m\u001b[0m\u001b[1;33m\u001b[0m\u001b[0m\n\u001b[0;32m   4078\u001b[0m         \u001b[1;32melif\u001b[0m \u001b[0misinstance\u001b[0m\u001b[1;33m(\u001b[0m\u001b[0mkey\u001b[0m\u001b[1;33m,\u001b[0m \u001b[1;33m(\u001b[0m\u001b[0mSeries\u001b[0m\u001b[1;33m,\u001b[0m \u001b[0mnp\u001b[0m\u001b[1;33m.\u001b[0m\u001b[0mndarray\u001b[0m\u001b[1;33m,\u001b[0m \u001b[0mlist\u001b[0m\u001b[1;33m,\u001b[0m \u001b[0mIndex\u001b[0m\u001b[1;33m)\u001b[0m\u001b[1;33m)\u001b[0m\u001b[1;33m:\u001b[0m\u001b[1;33m\u001b[0m\u001b[1;33m\u001b[0m\u001b[0m\n\u001b[0;32m   4079\u001b[0m             \u001b[0mself\u001b[0m\u001b[1;33m.\u001b[0m\u001b[0m_setitem_array\u001b[0m\u001b[1;33m(\u001b[0m\u001b[0mkey\u001b[0m\u001b[1;33m,\u001b[0m \u001b[0mvalue\u001b[0m\u001b[1;33m)\u001b[0m\u001b[1;33m\u001b[0m\u001b[1;33m\u001b[0m\u001b[0m\n\u001b[0;32m   4080\u001b[0m         \u001b[1;32melif\u001b[0m \u001b[0misinstance\u001b[0m\u001b[1;33m(\u001b[0m\u001b[0mvalue\u001b[0m\u001b[1;33m,\u001b[0m \u001b[0mDataFrame\u001b[0m\u001b[1;33m)\u001b[0m\u001b[1;33m:\u001b[0m\u001b[1;33m\u001b[0m\u001b[1;33m\u001b[0m\u001b[0m\n\u001b[1;32m-> 4081\u001b[1;33m             \u001b[0mself\u001b[0m\u001b[1;33m.\u001b[0m\u001b[0m_set_item_frame_value\u001b[0m\u001b[1;33m(\u001b[0m\u001b[0mkey\u001b[0m\u001b[1;33m,\u001b[0m \u001b[0mvalue\u001b[0m\u001b[1;33m)\u001b[0m\u001b[1;33m\u001b[0m\u001b[1;33m\u001b[0m\u001b[0m\n\u001b[0m\u001b[0;32m   4082\u001b[0m         elif (\n\u001b[0;32m   4083\u001b[0m             \u001b[0mis_list_like\u001b[0m\u001b[1;33m(\u001b[0m\u001b[0mvalue\u001b[0m\u001b[1;33m)\u001b[0m\u001b[1;33m\u001b[0m\u001b[1;33m\u001b[0m\u001b[0m\n\u001b[0;32m   4084\u001b[0m             \u001b[1;32mand\u001b[0m \u001b[1;32mnot\u001b[0m \u001b[0mself\u001b[0m\u001b[1;33m.\u001b[0m\u001b[0mcolumns\u001b[0m\u001b[1;33m.\u001b[0m\u001b[0mis_unique\u001b[0m\u001b[1;33m\u001b[0m\u001b[1;33m\u001b[0m\u001b[0m\n",
      "\u001b[1;32mc:\\Users\\Nick\\Documents\\code\\equity-extraction\\equity-extraction\\Lib\\site-packages\\pandas\\core\\frame.py\u001b[0m in \u001b[0;36m?\u001b[1;34m(self, key, value)\u001b[0m\n\u001b[0;32m   4205\u001b[0m             \u001b[0mloc\u001b[0m \u001b[1;33m=\u001b[0m \u001b[0mself\u001b[0m\u001b[1;33m.\u001b[0m\u001b[0mcolumns\u001b[0m\u001b[1;33m.\u001b[0m\u001b[0mget_loc\u001b[0m\u001b[1;33m(\u001b[0m\u001b[0mkey\u001b[0m\u001b[1;33m)\u001b[0m\u001b[1;33m\u001b[0m\u001b[1;33m\u001b[0m\u001b[0m\n\u001b[0;32m   4206\u001b[0m             \u001b[0mcols\u001b[0m \u001b[1;33m=\u001b[0m \u001b[0mself\u001b[0m\u001b[1;33m.\u001b[0m\u001b[0mcolumns\u001b[0m\u001b[1;33m[\u001b[0m\u001b[0mloc\u001b[0m\u001b[1;33m]\u001b[0m\u001b[1;33m\u001b[0m\u001b[1;33m\u001b[0m\u001b[0m\n\u001b[0;32m   4207\u001b[0m             \u001b[0mlen_cols\u001b[0m \u001b[1;33m=\u001b[0m \u001b[1;36m1\u001b[0m \u001b[1;32mif\u001b[0m \u001b[0mis_scalar\u001b[0m\u001b[1;33m(\u001b[0m\u001b[0mcols\u001b[0m\u001b[1;33m)\u001b[0m \u001b[1;32mor\u001b[0m \u001b[0misinstance\u001b[0m\u001b[1;33m(\u001b[0m\u001b[0mcols\u001b[0m\u001b[1;33m,\u001b[0m \u001b[0mtuple\u001b[0m\u001b[1;33m)\u001b[0m \u001b[1;32melse\u001b[0m \u001b[0mlen\u001b[0m\u001b[1;33m(\u001b[0m\u001b[0mcols\u001b[0m\u001b[1;33m)\u001b[0m\u001b[1;33m\u001b[0m\u001b[1;33m\u001b[0m\u001b[0m\n\u001b[0;32m   4208\u001b[0m             \u001b[1;32mif\u001b[0m \u001b[0mlen_cols\u001b[0m \u001b[1;33m!=\u001b[0m \u001b[0mlen\u001b[0m\u001b[1;33m(\u001b[0m\u001b[0mvalue\u001b[0m\u001b[1;33m.\u001b[0m\u001b[0mcolumns\u001b[0m\u001b[1;33m)\u001b[0m\u001b[1;33m:\u001b[0m\u001b[1;33m\u001b[0m\u001b[1;33m\u001b[0m\u001b[0m\n\u001b[1;32m-> 4209\u001b[1;33m                 \u001b[1;32mraise\u001b[0m \u001b[0mValueError\u001b[0m\u001b[1;33m(\u001b[0m\u001b[1;34m\"Columns must be same length as key\"\u001b[0m\u001b[1;33m)\u001b[0m\u001b[1;33m\u001b[0m\u001b[1;33m\u001b[0m\u001b[0m\n\u001b[0m\u001b[0;32m   4210\u001b[0m \u001b[1;33m\u001b[0m\u001b[0m\n\u001b[0;32m   4211\u001b[0m             \u001b[1;31m# align right-hand-side columns if self.columns\u001b[0m\u001b[1;33m\u001b[0m\u001b[1;33m\u001b[0m\u001b[0m\n\u001b[0;32m   4212\u001b[0m             \u001b[1;31m# is multi-index and self[key] is a sub-frame\u001b[0m\u001b[1;33m\u001b[0m\u001b[1;33m\u001b[0m\u001b[0m\n",
      "\u001b[1;31mValueError\u001b[0m: Columns must be same length as key"
     ]
    }
   ],
   "source": [
    "# TODO change owner adrno in data processing to int\n",
    "\n",
    "digest_full_geo_nbhd[\"Owner Adrno\"] = digest_full_geo_nbhd.where(\n",
    "    digest_full_geo_nbhd[\"Owner Adrno\"] != \"\", \"0\",\n",
    ")"
   ]
  },
  {
   "cell_type": "code",
   "execution_count": null,
   "metadata": {},
   "outputs": [],
   "source": [
    "(\n",
    "    digest_full_geo_nbhd[\"Owner Adrno\"].astype(\"float\").astype(\"int\") + \" \" +\n",
    "    digest_full_geo_nbhd[\"Owner Adrstr\"] + \" \" +\n",
    "    digest_full_geo_nbhd[\"Owner Adrsuf\"] + \" \" +\n",
    "    digest_full_geo_nbhd[\"own_zip\"]\n",
    ").str.replace(\"[.,]+\", \"\")"
   ]
  },
  {
   "cell_type": "code",
   "execution_count": 29,
   "metadata": {},
   "outputs": [
    {
     "data": {
      "text/plain": [
       "Owner Adrstr\n",
       "PEACHTREE    11616\n",
       "PIEDMONT      7305\n",
       "MAIN          6864\n",
       "PARK          4861\n",
       "SPALDING      4606\n",
       "WOODLAND      4281\n",
       "NORTHSIDE     4259\n",
       "CASCADE       4224\n",
       "FAIRBURN      4091\n",
       "MONROE        4069\n",
       "Name: PARID, dtype: int64"
      ]
     },
     "execution_count": 29,
     "metadata": {},
     "output_type": "execute_result"
    }
   ],
   "source": [
    "digest_full_geo_nbhd.groupby(\"Owner Adrstr\")[\"PARID\"].count().sort_values(ascending=False).head(10)"
   ]
  },
  {
   "cell_type": "code",
   "execution_count": null,
   "metadata": {},
   "outputs": [],
   "source": [
    "digest_full_geo_nbhd.groupby(\"TAXYR\")"
   ]
  },
  {
   "cell_type": "code",
   "execution_count": 6,
   "metadata": {},
   "outputs": [
    {
     "data": {
      "text/html": [
       "<div>\n",
       "<style scoped>\n",
       "    .dataframe tbody tr th:only-of-type {\n",
       "        vertical-align: middle;\n",
       "    }\n",
       "\n",
       "    .dataframe tbody tr th {\n",
       "        vertical-align: top;\n",
       "    }\n",
       "\n",
       "    .dataframe thead th {\n",
       "        text-align: right;\n",
       "    }\n",
       "</style>\n",
       "<table border=\"1\" class=\"dataframe\">\n",
       "  <thead>\n",
       "    <tr style=\"text-align: right;\">\n",
       "      <th></th>\n",
       "      <th>TAXYR</th>\n",
       "      <th>PARID</th>\n",
       "      <th>Luc</th>\n",
       "      <th>Saledt</th>\n",
       "      <th>SALES PRICE</th>\n",
       "      <th>FAIR MARKET VALUE</th>\n",
       "      <th>DEED TYPE</th>\n",
       "      <th>Costval</th>\n",
       "      <th>Saleval</th>\n",
       "      <th>GRANTOR</th>\n",
       "      <th>GRANTEE</th>\n",
       "    </tr>\n",
       "  </thead>\n",
       "  <tbody>\n",
       "    <tr>\n",
       "      <th>1</th>\n",
       "      <td>2011</td>\n",
       "      <td>06 0310  LL0490</td>\n",
       "      <td>101</td>\n",
       "      <td>07-JUN-2010</td>\n",
       "      <td>794600.0</td>\n",
       "      <td>717100.0</td>\n",
       "      <td>WD</td>\n",
       "      <td>717100</td>\n",
       "      <td>0</td>\n",
       "      <td>CDG HOMES LLC</td>\n",
       "      <td>EDMUNDS KEITH S &amp; KIMBERLY C</td>\n",
       "    </tr>\n",
       "    <tr>\n",
       "      <th>2</th>\n",
       "      <td>2011</td>\n",
       "      <td>06 0310  LL0581</td>\n",
       "      <td>101</td>\n",
       "      <td>14-JUL-2010</td>\n",
       "      <td>800000.0</td>\n",
       "      <td>590400.0</td>\n",
       "      <td>WD</td>\n",
       "      <td>590400</td>\n",
       "      <td>0</td>\n",
       "      <td>CAPITAL DESIGN HOMES LLC</td>\n",
       "      <td>MEHDIPOUR MOHAMMADREZ &amp; SADEGHI SHIVA</td>\n",
       "    </tr>\n",
       "    <tr>\n",
       "      <th>5</th>\n",
       "      <td>2011</td>\n",
       "      <td>06 0310  LL0771</td>\n",
       "      <td>101</td>\n",
       "      <td>21-SEP-2010</td>\n",
       "      <td>700000.0</td>\n",
       "      <td>700000.0</td>\n",
       "      <td>LW</td>\n",
       "      <td>993600</td>\n",
       "      <td>RE</td>\n",
       "      <td>REGIONS BANK</td>\n",
       "      <td>DAHAN HAIM</td>\n",
       "    </tr>\n",
       "    <tr>\n",
       "      <th>6</th>\n",
       "      <td>2011</td>\n",
       "      <td>06 031000020232</td>\n",
       "      <td>101</td>\n",
       "      <td>28-JAN-2010</td>\n",
       "      <td>437500.0</td>\n",
       "      <td>437500.0</td>\n",
       "      <td>WD</td>\n",
       "      <td>465100</td>\n",
       "      <td>0</td>\n",
       "      <td>STUMP BLAIR E.</td>\n",
       "      <td>DEMPSEY JASON</td>\n",
       "    </tr>\n",
       "    <tr>\n",
       "      <th>7</th>\n",
       "      <td>2011</td>\n",
       "      <td>06 031100030032</td>\n",
       "      <td>101</td>\n",
       "      <td>13-AUG-2010</td>\n",
       "      <td>475000.0</td>\n",
       "      <td>451300.0</td>\n",
       "      <td>WD</td>\n",
       "      <td>451300</td>\n",
       "      <td>0</td>\n",
       "      <td>MIDDLETON ERIC C &amp; SUZUKI MASAMI A</td>\n",
       "      <td>BROWN EDWARD H</td>\n",
       "    </tr>\n",
       "    <tr>\n",
       "      <th>...</th>\n",
       "      <td>...</td>\n",
       "      <td>...</td>\n",
       "      <td>...</td>\n",
       "      <td>...</td>\n",
       "      <td>...</td>\n",
       "      <td>...</td>\n",
       "      <td>...</td>\n",
       "      <td>...</td>\n",
       "      <td>...</td>\n",
       "      <td>...</td>\n",
       "      <td>...</td>\n",
       "    </tr>\n",
       "    <tr>\n",
       "      <th>58671</th>\n",
       "      <td>2022</td>\n",
       "      <td>22 545011880240</td>\n",
       "      <td>101</td>\n",
       "      <td>06-OCT-2021</td>\n",
       "      <td>1.0</td>\n",
       "      <td>444600.0</td>\n",
       "      <td>QC</td>\n",
       "      <td>444,600</td>\n",
       "      <td>T</td>\n",
       "      <td>MC BRIDE CALEB</td>\n",
       "      <td>GEORGIA DEPARTMENT OF TRANSPORTATION</td>\n",
       "    </tr>\n",
       "    <tr>\n",
       "      <th>58672</th>\n",
       "      <td>2022</td>\n",
       "      <td>22 545011880240</td>\n",
       "      <td>101</td>\n",
       "      <td>15-OCT-2021</td>\n",
       "      <td>1.0</td>\n",
       "      <td>444600.0</td>\n",
       "      <td>QC</td>\n",
       "      <td>444,600</td>\n",
       "      <td>T</td>\n",
       "      <td>TROUSDALE NICHOLAS</td>\n",
       "      <td>GEORGIA DEPARTMENT OF TRANSPORTATION</td>\n",
       "    </tr>\n",
       "    <tr>\n",
       "      <th>58673</th>\n",
       "      <td>2022</td>\n",
       "      <td>22 545011880240</td>\n",
       "      <td>101</td>\n",
       "      <td>15-OCT-2021</td>\n",
       "      <td>1.0</td>\n",
       "      <td>444600.0</td>\n",
       "      <td>QC</td>\n",
       "      <td>444,600</td>\n",
       "      <td>T</td>\n",
       "      <td>AGAPE IRRIGATION REPAIR LLC</td>\n",
       "      <td>GEORGIA DEPARTMENT OF TRANSPORTATION</td>\n",
       "    </tr>\n",
       "    <tr>\n",
       "      <th>58674</th>\n",
       "      <td>2022</td>\n",
       "      <td>22 545011880240</td>\n",
       "      <td>101</td>\n",
       "      <td>06-OCT-2021</td>\n",
       "      <td>1.0</td>\n",
       "      <td>444600.0</td>\n",
       "      <td>QC</td>\n",
       "      <td>444,600</td>\n",
       "      <td>T</td>\n",
       "      <td>BRADLEY JAZMINE</td>\n",
       "      <td>GEORGIA DEPARTMENT OF TRANSPORTATION</td>\n",
       "    </tr>\n",
       "    <tr>\n",
       "      <th>58707</th>\n",
       "      <td>2022</td>\n",
       "      <td>22 545011892120</td>\n",
       "      <td>101</td>\n",
       "      <td>16-NOV-2021</td>\n",
       "      <td>471790.0</td>\n",
       "      <td>449200.0</td>\n",
       "      <td>LW</td>\n",
       "      <td>449,200</td>\n",
       "      <td>0</td>\n",
       "      <td>LENNAR GEORGIA, INC.</td>\n",
       "      <td>KONDEKAR PANKAJ HIRALAL &amp;</td>\n",
       "    </tr>\n",
       "  </tbody>\n",
       "</table>\n",
       "<p>275353 rows × 11 columns</p>\n",
       "</div>"
      ],
      "text/plain": [
       "       TAXYR            PARID  Luc       Saledt  SALES PRICE  \\\n",
       "1       2011  06 0310  LL0490  101  07-JUN-2010     794600.0   \n",
       "2       2011  06 0310  LL0581  101  14-JUL-2010     800000.0   \n",
       "5       2011  06 0310  LL0771  101  21-SEP-2010     700000.0   \n",
       "6       2011  06 031000020232  101  28-JAN-2010     437500.0   \n",
       "7       2011  06 031100030032  101  13-AUG-2010     475000.0   \n",
       "...      ...              ...  ...          ...          ...   \n",
       "58671   2022  22 545011880240  101  06-OCT-2021          1.0   \n",
       "58672   2022  22 545011880240  101  15-OCT-2021          1.0   \n",
       "58673   2022  22 545011880240  101  15-OCT-2021          1.0   \n",
       "58674   2022  22 545011880240  101  06-OCT-2021          1.0   \n",
       "58707   2022  22 545011892120  101  16-NOV-2021     471790.0   \n",
       "\n",
       "       FAIR MARKET VALUE DEED TYPE  Costval Saleval  \\\n",
       "1               717100.0        WD   717100       0   \n",
       "2               590400.0        WD   590400       0   \n",
       "5               700000.0        LW   993600      RE   \n",
       "6               437500.0        WD   465100       0   \n",
       "7               451300.0        WD   451300       0   \n",
       "...                  ...       ...      ...     ...   \n",
       "58671           444600.0        QC  444,600       T   \n",
       "58672           444600.0        QC  444,600       T   \n",
       "58673           444600.0        QC  444,600       T   \n",
       "58674           444600.0        QC  444,600       T   \n",
       "58707           449200.0        LW  449,200       0   \n",
       "\n",
       "                                  GRANTOR  \\\n",
       "1                           CDG HOMES LLC   \n",
       "2                CAPITAL DESIGN HOMES LLC   \n",
       "5                            REGIONS BANK   \n",
       "6                          STUMP BLAIR E.   \n",
       "7      MIDDLETON ERIC C & SUZUKI MASAMI A   \n",
       "...                                   ...   \n",
       "58671                      MC BRIDE CALEB   \n",
       "58672                  TROUSDALE NICHOLAS   \n",
       "58673         AGAPE IRRIGATION REPAIR LLC   \n",
       "58674                     BRADLEY JAZMINE   \n",
       "58707                LENNAR GEORGIA, INC.   \n",
       "\n",
       "                                     GRANTEE  \n",
       "1               EDMUNDS KEITH S & KIMBERLY C  \n",
       "2      MEHDIPOUR MOHAMMADREZ & SADEGHI SHIVA  \n",
       "5                                 DAHAN HAIM  \n",
       "6                              DEMPSEY JASON  \n",
       "7                             BROWN EDWARD H  \n",
       "...                                      ...  \n",
       "58671   GEORGIA DEPARTMENT OF TRANSPORTATION  \n",
       "58672   GEORGIA DEPARTMENT OF TRANSPORTATION  \n",
       "58673   GEORGIA DEPARTMENT OF TRANSPORTATION  \n",
       "58674   GEORGIA DEPARTMENT OF TRANSPORTATION  \n",
       "58707              KONDEKAR PANKAJ HIRALAL &  \n",
       "\n",
       "[275353 rows x 11 columns]"
      ]
     },
     "execution_count": 6,
     "metadata": {},
     "output_type": "execute_result"
    }
   ],
   "source": [
    "fulton_sales_all"
   ]
  },
  {
   "cell_type": "markdown",
   "metadata": {},
   "source": [
    "### Drop parcels where government institutions or banks were owners"
   ]
  },
  {
   "cell_type": "code",
   "execution_count": null,
   "metadata": {},
   "outputs": [],
   "source": [
    "print(\"Size before: \", atl_df.shape)\n",
    "\n",
    "govt_keywords = ['FEDERAL'] # FANNIE AND FREDDIE MAE PUT FEDERAL IN THEIR NAMES\n",
    "govt = atl_df[\n",
    "    atl_df['GRANTEE'].apply(lambda x: any([key in str(x) for key in govt_keywords]))\n",
    "]['GRANTEE'].unique().tolist() + atl_df[\n",
    "    atl_df['GRANTOR'].apply(lambda x: any([key in str(x) for key in govt_keywords]))\n",
    "]['GRANTOR'].unique().tolist()\n",
    "\n",
    "bank_keywords = ['BANK', 'MORTGAGE', 'LENDING', 'LOAN', 'FINANCE', 'FUND', 'CREDIT', 'TRUST', 'SERVICES']\n",
    "banks = atl_df[\n",
    "    atl_df['GRANTEE'].apply(lambda x: any([key in str(x) for key in bank_keywords]))\n",
    "]['GRANTEE'].unique().tolist() + atl_df[\n",
    "    atl_df['GRANTOR'].apply(lambda x: any([key in str(x) for key in bank_keywords]))\n",
    "]['GRANTOR'].unique().tolist()\n",
    "\n",
    "atl_df = atl_df[\n",
    "    ~(atl_df['GRANTEE'].isin(govt + banks)\n",
    "    | atl_df['GRANTOR'].isin(govt + banks))\n",
    "]\n",
    "print(\"Size after: \", atl_df.shape)"
   ]
  },
  {
   "cell_type": "markdown",
   "metadata": {},
   "source": [
    "### Identify corporate owners (excluding govt institutions, banks, trusts), create corp owner flag; classify size of investor by owner addr prob and have a sum of properties owned for continuous measure, compare statistical results\n",
    "- should it be any corp owner in the period or do they need to have bought in during the period"
   ]
  },
  {
   "cell_type": "code",
   "execution_count": null,
   "metadata": {},
   "outputs": [],
   "source": []
  },
  {
   "cell_type": "markdown",
   "metadata": {},
   "source": [
    "### For each sale, create a dummy variable for each sale type: corp purchase from ind, ind purchase from ind, corp sale to ind, ind sale from ind (should be identical to other ind to ind metric)"
   ]
  },
  {
   "cell_type": "code",
   "execution_count": null,
   "metadata": {},
   "outputs": [],
   "source": []
  },
  {
   "cell_type": "markdown",
   "metadata": {},
   "source": [
    "### Agg each class of sale"
   ]
  },
  {
   "cell_type": "code",
   "execution_count": null,
   "metadata": {},
   "outputs": [],
   "source": []
  },
  {
   "cell_type": "markdown",
   "metadata": {},
   "source": [
    "### Get totals for Fulton then drop non-ATL and agg by neighborhoods, year, size of investor"
   ]
  },
  {
   "cell_type": "markdown",
   "metadata": {},
   "source": []
  },
  {
   "cell_type": "markdown",
   "metadata": {},
   "source": [
    "### Track each property after purchase (or at all owned by corp during period), calculate rental income"
   ]
  },
  {
   "cell_type": "code",
   "execution_count": null,
   "metadata": {},
   "outputs": [],
   "source": []
  },
  {
   "cell_type": "markdown",
   "metadata": {},
   "source": [
    "### Normalized equity loss measure"
   ]
  },
  {
   "cell_type": "code",
   "execution_count": null,
   "metadata": {},
   "outputs": [],
   "source": []
  },
  {
   "cell_type": "markdown",
   "metadata": {},
   "source": [
    "### Statistical test to see if FMV - SP was significant between ind and corp (ANOVA) or regression"
   ]
  },
  {
   "cell_type": "code",
   "execution_count": null,
   "metadata": {},
   "outputs": [],
   "source": []
  },
  {
   "cell_type": "markdown",
   "metadata": {},
   "source": [
    "### Create a measure of corp concentration in neighborhood to use as metric for analysis - is it just being a corp that helps, or when there's high concentration?"
   ]
  },
  {
   "cell_type": "code",
   "execution_count": null,
   "metadata": {},
   "outputs": [],
   "source": []
  },
  {
   "cell_type": "markdown",
   "metadata": {},
   "source": [
    "### Geospatial"
   ]
  },
  {
   "cell_type": "code",
   "execution_count": null,
   "metadata": {},
   "outputs": [],
   "source": []
  },
  {
   "cell_type": "markdown",
   "metadata": {},
   "source": [
    "### Do neighborhood characteristics predict equity loss"
   ]
  },
  {
   "cell_type": "code",
   "execution_count": null,
   "metadata": {},
   "outputs": [],
   "source": []
  },
  {
   "cell_type": "markdown",
   "metadata": {},
   "source": [
    "### Foreclosures?"
   ]
  },
  {
   "cell_type": "code",
   "execution_count": null,
   "metadata": {},
   "outputs": [],
   "source": []
  }
 ],
 "metadata": {
  "kernelspec": {
   "display_name": "equity-extraction",
   "language": "python",
   "name": "python3"
  },
  "language_info": {
   "codemirror_mode": {
    "name": "ipython",
    "version": 3
   },
   "file_extension": ".py",
   "mimetype": "text/x-python",
   "name": "python",
   "nbconvert_exporter": "python",
   "pygments_lexer": "ipython3",
   "version": "3.12.1"
  }
 },
 "nbformat": 4,
 "nbformat_minor": 2
}
