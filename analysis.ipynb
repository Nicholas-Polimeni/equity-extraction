{
 "cells": [
  {
   "cell_type": "markdown",
   "metadata": {},
   "source": [
    "# Equity Loss Analysis for Atlanta MSA\n",
    "\n",
    "## Data Sources\n",
    "- Fulton County digest parcel data from 2011 to 2022 (selected for LUC=101, SFHs), excel\n",
    "- Fulton County digest parcel data for 2022 (for geocoding), geojson\n",
    "- Fulton County sales data from 2011 to 2022, txt\n",
    "- Atlanta Neighborhood Statistical Areas with supplemental data from Census (), 2022, csv from Neighborhood Nexus\n",
    "- Neighborhood characteristics? unknown\n",
    "\n",
    "**Note: NSAs in DeKalb are excluded, we do not have data for all years**\n",
    "\n",
    "Those neighborhoods are:\n",
    "- Candler Park, Druid Hills\n",
    "- Lake Claire\n",
    "- East Lake\n",
    "- Kirkwood\n",
    "- Edgewood\n",
    "- East Atlanta\n",
    "- Emory University/Center for Disease Control\n",
    "- Part of Morningside/Lenox Park\n",
    "\n",
    "This leaves _ neighborhoods (see appendix for list)\n",
    "\n",
    "## Areas of Analysis\n",
    "- Corporate power in buying and purchasing (stat significance in purachsing price diff?)\n",
    "- Corporate profits from rentals\n",
    "- Corporate concentration\n",
    "- Neighborhood characteristics?\n",
    "\n",
    "- Sum of buying, selling -> all sales\n",
    "- Sum of holding -> all parcels\n",
    "- Create a cumulative measure and normalized by neighborhood context\n",
    "- Take distribution of all sales to ind, corp and compare to see if statistically significant\n",
    "- Correlate to neighborhood characteristics\n",
    "- Predict based on neighborhood characteristics\n",
    "- Geospatial for each neighborhood\n",
    "- Foreclosure rate "
   ]
  },
  {
   "cell_type": "code",
   "execution_count": 1,
   "metadata": {},
   "outputs": [],
   "source": [
    "import os\n",
    "import pandas as pd\n",
    "import geopandas as gpd"
   ]
  },
  {
   "cell_type": "code",
   "execution_count": null,
   "metadata": {},
   "outputs": [],
   "source": [
    "# raw\n",
    "digest_full = pd.read_excel()\n",
    "sales_full = pd.read_excel()\n",
    "\n",
    "# geo\n",
    "atlanta_nsa = gpd.read_file()\n",
    "digest_2022 = gpd.read_file()"
   ]
  }
 ],
 "metadata": {
  "kernelspec": {
   "display_name": "equity-extraction",
   "language": "python",
   "name": "python3"
  },
  "language_info": {
   "codemirror_mode": {
    "name": "ipython",
    "version": 3
   },
   "file_extension": ".py",
   "mimetype": "text/x-python",
   "name": "python",
   "nbconvert_exporter": "python",
   "pygments_lexer": "ipython3",
   "version": "3.12.1"
  }
 },
 "nbformat": 4,
 "nbformat_minor": 2
}
