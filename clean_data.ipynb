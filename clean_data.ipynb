{
 "cells": [
  {
   "cell_type": "markdown",
   "metadata": {},
   "source": [
    "# Clean Data for Analysis\n",
    "Summary needed"
   ]
  },
  {
   "cell_type": "code",
   "execution_count": 39,
   "metadata": {},
   "outputs": [],
   "source": [
    "import pandas as pd\n",
    "\n",
    "pd.set_option('display.max_columns', 150)\n",
    "pd.options.display.float_format = '{:,.3f}'.format"
   ]
  },
  {
   "cell_type": "code",
   "execution_count": 40,
   "metadata": {},
   "outputs": [],
   "source": [
    "# From process_data.ipynb, we have the following:\n",
    "# geo_parcels: parcel boundaries and cities\n",
    "# digest_full: all digest data where LUC == 101\n",
    "# sales_full: all sales data LUC == 101\n",
    "\n",
    "DATA_PATH = 'output/'\n",
    "geo_parcels = pd.read_csv(DATA_PATH + 'parcels_geo.csv')\n",
    "digest_full = pd.read_parquet(DATA_PATH + 'digest_full.parquet')\n",
    "sales_full = pd.read_parquet(DATA_PATH + 'sales_full.parquet')"
   ]
  },
  {
   "cell_type": "code",
   "execution_count": 41,
   "metadata": {},
   "outputs": [
    {
     "name": "stdout",
     "output_type": "stream",
     "text": [
      "Inflation scalars: {2010: 1.3541306420779364, 2011: 1.3151698039632742, 2012: 1.2926642305564873, 2013: 1.2735390411458536, 2014: 1.2639771391581351, 2015: 1.25482295740408, 2016: 1.2293192286026708, 2017: 1.2039274066622319, 2018: 1.1813615249589027, 2019: 1.1549689851891634, 2020: 1.1394496187719314, 2021: 1.0645440133141082, 2022: 1.0}\n"
     ]
    }
   ],
   "source": [
    "# Adjust diff for inflation, using CPI-U from the\n",
    "# BLS: https://data.bls.gov/timeseries/CUUR0000SA0\n",
    "# Use December CPI for each year as demoninator, and\n",
    "# 2022 December CPI as numerator\n",
    "december_2022_cpi = 296.797\n",
    "december_cpi_year = {\n",
    "    2010: 219.179,\n",
    "    2011: 225.672,\n",
    "    2012: 229.601,\n",
    "    2013: 233.049,\n",
    "    2014: 234.812,\n",
    "    2015: 236.525,\n",
    "    2016: 241.432,\n",
    "    2017: 246.524,\n",
    "    2018: 251.233,\n",
    "    2019: 256.974,\n",
    "    2020: 260.474,\n",
    "    2021: 278.802,\n",
    "    2022: 296.797\n",
    "}\n",
    "inflation_scalar = {x: december_2022_cpi / december_cpi_year[x] for x in december_cpi_year}\n",
    "print(f\"Inflation scalars: {inflation_scalar}\")"
   ]
  },
  {
   "cell_type": "markdown",
   "metadata": {},
   "source": [
    "## Parcel Cleaning\n",
    "- Drop duplicate TAXYR, PARID keys (parcels that contain multiple structures, these are essentially ADUs since we are only looking at single-family); retain only the row with the largest living area square footage (main structure)."
   ]
  },
  {
   "cell_type": "markdown",
   "metadata": {},
   "source": [
    "Only keep one record per parcel per year (building with greatest SF)"
   ]
  },
  {
   "cell_type": "code",
   "execution_count": 42,
   "metadata": {},
   "outputs": [
    {
     "name": "stdout",
     "output_type": "stream",
     "text": [
      "Number of dropped duplicates: 26988\n",
      "Number of total parcels (all years): 2751045\n"
     ]
    }
   ],
   "source": [
    "init_len = len(digest_full)\n",
    "digest_full = digest_full.sort_values(by=\"Sfla\").drop_duplicates(subset=[\"TAXYR\", \"PARID\"], keep=\"first\")\n",
    "\n",
    "print(f\"Number of dropped duplicates: {init_len - len(digest_full)}\")\n",
    "print(f\"Number of total parcels (all years): {len(digest_full)}\")"
   ]
  },
  {
   "cell_type": "markdown",
   "metadata": {},
   "source": [
    "Drop rows without owner address"
   ]
  },
  {
   "cell_type": "code",
   "execution_count": 43,
   "metadata": {},
   "outputs": [
    {
     "name": "stdout",
     "output_type": "stream",
     "text": [
      "Number of empty addresses dropped: 3539\n"
     ]
    }
   ],
   "source": [
    "# Drop rows without an owner address\n",
    "init_len = len(digest_full)\n",
    "digest_full = digest_full[digest_full[\"Owner Adrstr\"] != \"\"]\n",
    "print(f\"Number of empty addresses dropped: {init_len - len(digest_full)}\")"
   ]
  },
  {
   "cell_type": "code",
   "execution_count": 44,
   "metadata": {},
   "outputs": [
    {
     "name": "stdout",
     "output_type": "stream",
     "text": [
      "Total number of unique parcels: 227922\n",
      "Nun parcels without a record for every year in period: 40564\n",
      "\n",
      "Total number of parcels around at start of study period: 205697\n",
      "Num of parcels around at start that don't have an entry for every year: 18339\n"
     ]
    }
   ],
   "source": [
    "count_of_records_parcel = pd.DataFrame(digest_full.groupby(by=\"PARID\")[\"PARID\"].count()).rename(\n",
    "    columns={\"PARID\": \"count_records\"}\n",
    ")\n",
    "print(f\"Total number of unique parcels: {len(count_of_records_parcel)}\")\n",
    "\n",
    "count_missing_a_record = (count_of_records_parcel[\"count_records\"] < 13).sum()\n",
    "print(f\"Nun parcels without a record for every year in period: {count_missing_a_record}\")\n",
    "print(\"\")\n",
    "\n",
    "tot_parcels_begin = digest_full[digest_full[\"TAXYR\"] == 2010].merge(\n",
    "    count_of_records_parcel,\n",
    "    on=\"PARID\",\n",
    "    how=\"inner\"\n",
    ")\n",
    "\n",
    "begin_and_missing = (tot_parcels_begin[\"count_records\"] < 13).sum()\n",
    "tot_count_missing = tot_parcels_begin[\"PARID\"].count() - begin_and_missing\n",
    "print(f\"Total number of parcels around at start of study period: {len(tot_parcels_begin)}\")\n",
    "print(f\"Num of parcels around at start that don't have an entry for every year: {begin_and_missing}\")"
   ]
  },
  {
   "cell_type": "markdown",
   "metadata": {},
   "source": [
    "### Adjust Aprtot for inflation"
   ]
  },
  {
   "cell_type": "code",
   "execution_count": 45,
   "metadata": {},
   "outputs": [
    {
     "data": {
      "text/html": [
       "<div>\n",
       "<style scoped>\n",
       "    .dataframe tbody tr th:only-of-type {\n",
       "        vertical-align: middle;\n",
       "    }\n",
       "\n",
       "    .dataframe tbody tr th {\n",
       "        vertical-align: top;\n",
       "    }\n",
       "\n",
       "    .dataframe thead th {\n",
       "        text-align: right;\n",
       "    }\n",
       "</style>\n",
       "<table border=\"1\" class=\"dataframe\">\n",
       "  <thead>\n",
       "    <tr style=\"text-align: right;\">\n",
       "      <th></th>\n",
       "      <th>TAXYR</th>\n",
       "      <th>Aprtot</th>\n",
       "      <th>Aprtot_adj</th>\n",
       "    </tr>\n",
       "  </thead>\n",
       "  <tbody>\n",
       "    <tr>\n",
       "      <th>2455476</th>\n",
       "      <td>2015</td>\n",
       "      <td>411,000.000</td>\n",
       "      <td>515,732.235</td>\n",
       "    </tr>\n",
       "    <tr>\n",
       "      <th>1646208</th>\n",
       "      <td>2015</td>\n",
       "      <td>474,100.000</td>\n",
       "      <td>594,911.564</td>\n",
       "    </tr>\n",
       "    <tr>\n",
       "      <th>1662149</th>\n",
       "      <td>2015</td>\n",
       "      <td>329,400.000</td>\n",
       "      <td>413,338.682</td>\n",
       "    </tr>\n",
       "  </tbody>\n",
       "</table>\n",
       "</div>"
      ],
      "text/plain": [
       "         TAXYR      Aprtot  Aprtot_adj\n",
       "2455476   2015 411,000.000 515,732.235\n",
       "1646208   2015 474,100.000 594,911.564\n",
       "1662149   2015 329,400.000 413,338.682"
      ]
     },
     "execution_count": 45,
     "metadata": {},
     "output_type": "execute_result"
    }
   ],
   "source": [
    "digest_full[\"Aprtot_adj\"] = digest_full[\"Aprtot\"] * digest_full[\"TAXYR\"].map(inflation_scalar)\n",
    "digest_full[[\"TAXYR\", \"Aprtot\", \"Aprtot_adj\"]].sample(3)"
   ]
  },
  {
   "cell_type": "markdown",
   "metadata": {},
   "source": [
    "## Sales Cleaning\n",
    "- Drop non-arms length transcations (Saleval codes = D, T, G, 4, 4A, 4B, 4C, 4D, 4E, 6F), price under 1K\n",
    "- Only keep one record when a parcel has been sold twice in one day, with preference for keeping record with Saleval == M. If a parcel had multiple sales in one day, we assume only one of these may have been a market sale and the rest were transfers (manual inspection appears to reveal this).\n",
    "- Replace sales price for multi-parcel sales with sales price / number of parcels in that transcation. Sales price is total transcation value, which includes many parcels for a multi-parcel sale. "
   ]
  },
  {
   "cell_type": "markdown",
   "metadata": {},
   "source": [
    "Saleval code distribution before cleaning"
   ]
  },
  {
   "cell_type": "code",
   "execution_count": 46,
   "metadata": {},
   "outputs": [
    {
     "data": {
      "text/plain": [
       "Saleval\n",
       "0     117330\n",
       "T      36730\n",
       "G      23159\n",
       "5      17287\n",
       "M      13777\n",
       "9      13131\n",
       "3      10205\n",
       "RE      8124\n",
       "4       7015\n",
       "4E      6112\n",
       "Name: count, dtype: Int64"
      ]
     },
     "execution_count": 46,
     "metadata": {},
     "output_type": "execute_result"
    }
   ],
   "source": [
    "sales_full[\"Saleval\"].value_counts().head(10)"
   ]
  },
  {
   "cell_type": "markdown",
   "metadata": {},
   "source": [
    "Drop non-arms length transactions\n",
    "- Saleval codes: D, T, G, 4, 4B, 4C, 6B, 6F\n",
    "- Any remaining sales where sales price is under 1K"
   ]
  },
  {
   "cell_type": "code",
   "execution_count": 47,
   "metadata": {},
   "outputs": [
    {
     "name": "stdout",
     "output_type": "stream",
     "text": [
      "Number of dropped records: 85636\n",
      "Number of total sales records: 189717\n"
     ]
    }
   ],
   "source": [
    "drop_saleval = [\"D\", \"T\", \"G\", \"4\", \"4A\", \"4B\", \"4C\", \"4D\", \"4E\", \"6F\"]\n",
    "init_len = len(sales_full)\n",
    "sales_full[\"Saleval\"] = sales_full[\"Saleval\"].str.strip()\n",
    "sales_full = sales_full[~sales_full[\"Saleval\"].isin(drop_saleval)]\n",
    "sales_full = sales_full[sales_full[\"SALES PRICE\"] > 1000]\n",
    "print(f\"Number of dropped records: {init_len - len(sales_full)}\")\n",
    "print(f\"Number of total sales records: {len(sales_full)}\")"
   ]
  },
  {
   "cell_type": "markdown",
   "metadata": {},
   "source": [
    "Examine rows where PARID and Saledt are identical (e.g. potentially duplicate records)"
   ]
  },
  {
   "cell_type": "code",
   "execution_count": 48,
   "metadata": {},
   "outputs": [
    {
     "data": {
      "text/html": [
       "<div>\n",
       "<style scoped>\n",
       "    .dataframe tbody tr th:only-of-type {\n",
       "        vertical-align: middle;\n",
       "    }\n",
       "\n",
       "    .dataframe tbody tr th {\n",
       "        vertical-align: top;\n",
       "    }\n",
       "\n",
       "    .dataframe thead th {\n",
       "        text-align: right;\n",
       "    }\n",
       "</style>\n",
       "<table border=\"1\" class=\"dataframe\">\n",
       "  <thead>\n",
       "    <tr style=\"text-align: right;\">\n",
       "      <th></th>\n",
       "      <th>TAXYR</th>\n",
       "      <th>PARID</th>\n",
       "      <th>Luc</th>\n",
       "      <th>Saledt</th>\n",
       "      <th>SALES PRICE</th>\n",
       "      <th>FAIR MARKET VALUE</th>\n",
       "      <th>DEED TYPE</th>\n",
       "      <th>Costval</th>\n",
       "      <th>Saleval</th>\n",
       "      <th>GRANTOR</th>\n",
       "      <th>GRANTEE</th>\n",
       "    </tr>\n",
       "  </thead>\n",
       "  <tbody>\n",
       "    <tr>\n",
       "      <th>98503</th>\n",
       "      <td>2016</td>\n",
       "      <td>06 0310  LL0482</td>\n",
       "      <td>101</td>\n",
       "      <td>17-DEC-2015</td>\n",
       "      <td>630,000.000</td>\n",
       "      <td>630,000.000</td>\n",
       "      <td>WD</td>\n",
       "      <td>638,500</td>\n",
       "      <td>9</td>\n",
       "      <td>CDG HOMES, LLC</td>\n",
       "      <td>HARBERT FRANCETTA F</td>\n",
       "    </tr>\n",
       "    <tr>\n",
       "      <th>98510</th>\n",
       "      <td>2016</td>\n",
       "      <td>06 031100040064</td>\n",
       "      <td>101</td>\n",
       "      <td>29-JUL-2015</td>\n",
       "      <td>603,500.000</td>\n",
       "      <td>603,500.000</td>\n",
       "      <td>SW</td>\n",
       "      <td>522,400</td>\n",
       "      <td>9</td>\n",
       "      <td>NATIONAL RESIDENTIAL NOMINEE SERVICES, I</td>\n",
       "      <td>BAYLIN TRACEY</td>\n",
       "    </tr>\n",
       "    <tr>\n",
       "      <th>242337</th>\n",
       "      <td>2022</td>\n",
       "      <td>06 031100060237</td>\n",
       "      <td>101</td>\n",
       "      <td>08-FEB-2021</td>\n",
       "      <td>540,000.000</td>\n",
       "      <td>540,000.000</td>\n",
       "      <td>WD</td>\n",
       "      <td>557,300</td>\n",
       "      <td>0</td>\n",
       "      <td>PANLILIO LUTGARDO G &amp; VIVIAN L</td>\n",
       "      <td>GOLDNER RONALD E &amp; ARIENE S</td>\n",
       "    </tr>\n",
       "    <tr>\n",
       "      <th>126715</th>\n",
       "      <td>2018</td>\n",
       "      <td>06 0312  LL0597</td>\n",
       "      <td>101</td>\n",
       "      <td>28-FEB-2017</td>\n",
       "      <td>745,000.000</td>\n",
       "      <td>674,900.000</td>\n",
       "      <td>WD</td>\n",
       "      <td>674,900</td>\n",
       "      <td>P</td>\n",
       "      <td>HIGHGROVE HOMES, LLC</td>\n",
       "      <td>CARRATO MICHAEL J &amp;</td>\n",
       "    </tr>\n",
       "    <tr>\n",
       "      <th>22</th>\n",
       "      <td>2011</td>\n",
       "      <td>06 031200010066</td>\n",
       "      <td>101</td>\n",
       "      <td>07-SEP-2010</td>\n",
       "      <td>152,200.000</td>\n",
       "      <td>211,500.000</td>\n",
       "      <td>SW</td>\n",
       "      <td>211500</td>\n",
       "      <td>5</td>\n",
       "      <td>SUNTRUST MORTGAGE, INC.</td>\n",
       "      <td>FEDERAL NATIONAL MORTGAGE ASSOCIATION</td>\n",
       "    </tr>\n",
       "  </tbody>\n",
       "</table>\n",
       "</div>"
      ],
      "text/plain": [
       "        TAXYR            PARID  Luc       Saledt  SALES PRICE  \\\n",
       "98503    2016  06 0310  LL0482  101  17-DEC-2015  630,000.000   \n",
       "98510    2016  06 031100040064  101  29-JUL-2015  603,500.000   \n",
       "242337   2022  06 031100060237  101  08-FEB-2021  540,000.000   \n",
       "126715   2018  06 0312  LL0597  101  28-FEB-2017  745,000.000   \n",
       "22       2011  06 031200010066  101  07-SEP-2010  152,200.000   \n",
       "\n",
       "        FAIR MARKET VALUE DEED TYPE  Costval Saleval  \\\n",
       "98503         630,000.000        WD  638,500       9   \n",
       "98510         603,500.000        SW  522,400       9   \n",
       "242337        540,000.000        WD  557,300       0   \n",
       "126715        674,900.000        WD  674,900       P   \n",
       "22            211,500.000        SW   211500       5   \n",
       "\n",
       "                                         GRANTOR  \\\n",
       "98503                             CDG HOMES, LLC   \n",
       "98510   NATIONAL RESIDENTIAL NOMINEE SERVICES, I   \n",
       "242337            PANLILIO LUTGARDO G & VIVIAN L   \n",
       "126715                      HIGHGROVE HOMES, LLC   \n",
       "22                       SUNTRUST MORTGAGE, INC.   \n",
       "\n",
       "                                      GRANTEE  \n",
       "98503                     HARBERT FRANCETTA F  \n",
       "98510                           BAYLIN TRACEY  \n",
       "242337            GOLDNER RONALD E & ARIENE S  \n",
       "126715                    CARRATO MICHAEL J &  \n",
       "22      FEDERAL NATIONAL MORTGAGE ASSOCIATION  "
      ]
     },
     "execution_count": 48,
     "metadata": {},
     "output_type": "execute_result"
    }
   ],
   "source": [
    "sales_full[sales_full.duplicated(subset=[\"PARID\", \"Saledt\"])].sort_values(by=[\"PARID\", \"Saledt\"]).head(5)"
   ]
  },
  {
   "cell_type": "code",
   "execution_count": 49,
   "metadata": {},
   "outputs": [
    {
     "data": {
      "text/html": [
       "<div>\n",
       "<style scoped>\n",
       "    .dataframe tbody tr th:only-of-type {\n",
       "        vertical-align: middle;\n",
       "    }\n",
       "\n",
       "    .dataframe tbody tr th {\n",
       "        vertical-align: top;\n",
       "    }\n",
       "\n",
       "    .dataframe thead th {\n",
       "        text-align: right;\n",
       "    }\n",
       "</style>\n",
       "<table border=\"1\" class=\"dataframe\">\n",
       "  <thead>\n",
       "    <tr style=\"text-align: right;\">\n",
       "      <th></th>\n",
       "      <th>TAXYR</th>\n",
       "      <th>PARID</th>\n",
       "      <th>Luc</th>\n",
       "      <th>Saledt</th>\n",
       "      <th>SALES PRICE</th>\n",
       "      <th>FAIR MARKET VALUE</th>\n",
       "      <th>DEED TYPE</th>\n",
       "      <th>Costval</th>\n",
       "      <th>Saleval</th>\n",
       "      <th>GRANTOR</th>\n",
       "      <th>GRANTEE</th>\n",
       "    </tr>\n",
       "  </thead>\n",
       "  <tbody>\n",
       "    <tr>\n",
       "      <th>26787</th>\n",
       "      <td>2012</td>\n",
       "      <td>06 031200020099</td>\n",
       "      <td>101</td>\n",
       "      <td>03-MAY-2011</td>\n",
       "      <td>192,400.000</td>\n",
       "      <td>85,700.000</td>\n",
       "      <td>DP</td>\n",
       "      <td>85700</td>\n",
       "      <td>5</td>\n",
       "      <td>MATASSINO JOSEPH A JR</td>\n",
       "      <td>PNC BANK N A</td>\n",
       "    </tr>\n",
       "    <tr>\n",
       "      <th>26788</th>\n",
       "      <td>2012</td>\n",
       "      <td>06 031200020099</td>\n",
       "      <td>101</td>\n",
       "      <td>03-MAY-2011</td>\n",
       "      <td>192,400.000</td>\n",
       "      <td>85,700.000</td>\n",
       "      <td>SW</td>\n",
       "      <td>85700</td>\n",
       "      <td>2</td>\n",
       "      <td>PNC BANK N A</td>\n",
       "      <td>FEDERAL HOME LOAN MORTGAGE CORP</td>\n",
       "    </tr>\n",
       "  </tbody>\n",
       "</table>\n",
       "</div>"
      ],
      "text/plain": [
       "       TAXYR            PARID  Luc       Saledt  SALES PRICE  \\\n",
       "26787   2012  06 031200020099  101  03-MAY-2011  192,400.000   \n",
       "26788   2012  06 031200020099  101  03-MAY-2011  192,400.000   \n",
       "\n",
       "       FAIR MARKET VALUE DEED TYPE Costval Saleval                GRANTOR  \\\n",
       "26787         85,700.000        DP   85700       5  MATASSINO JOSEPH A JR   \n",
       "26788         85,700.000        SW   85700       2           PNC BANK N A   \n",
       "\n",
       "                               GRANTEE  \n",
       "26787                     PNC BANK N A  \n",
       "26788  FEDERAL HOME LOAN MORTGAGE CORP  "
      ]
     },
     "execution_count": 49,
     "metadata": {},
     "output_type": "execute_result"
    }
   ],
   "source": [
    "sales_full[sales_full[\"PARID\"] == \"06 031200020099\"]"
   ]
  },
  {
   "cell_type": "markdown",
   "metadata": {},
   "source": [
    "Only keep one record where PARID and Saledt. Priority to keep record where Saleval == M.\n",
    "\n",
    "If a sale happened for the same parcel twice in one day, the assumption that the second sale is non-arms length (e.g. a transfer to some other entity)"
   ]
  },
  {
   "cell_type": "code",
   "execution_count": 50,
   "metadata": {},
   "outputs": [
    {
     "name": "stdout",
     "output_type": "stream",
     "text": [
      "Count dropped where sale was identical except for Saleval:  7679\n"
     ]
    }
   ],
   "source": [
    "init_len = len(sales_full)\n",
    "\n",
    "# Sort values to keep records where Saleval is M first (in the case of duplicates being dropped)\n",
    "sales_full[\"M_flag\"] = sales_full[\"Saleval\"].apply(lambda x: True if x == \"M\" else False)\n",
    "sales_full = sales_full.sort_values(by=[\"M_flag\"], ascending=False)\n",
    "sales_full = sales_full.drop_duplicates(subset=[\"PARID\", \"Saledt\"], keep=\"first\")\n",
    "\n",
    "print(\"Count dropped where sale was identical except for Saleval: \", init_len - len(sales_full))"
   ]
  },
  {
   "cell_type": "markdown",
   "metadata": {},
   "source": [
    "For multi-parcel sales, the sales price needs to be replaced with sales price divided by number of parcels in the transcation. We consider a record as part of the same multi-parcel sale when Saleval flag == M, Saledt, GRANTEE, and Sales Price are the same.\n",
    "\n",
    "Drop any records where Saleval == M but there is only one record in that transcation. This indicates it might've been a multi-parcel sale with parcels located outside of Fulton. We do not have complete records for these, and they are an negligible total."
   ]
  },
  {
   "cell_type": "code",
   "execution_count": 51,
   "metadata": {},
   "outputs": [
    {
     "name": "stdout",
     "output_type": "stream",
     "text": [
      "Number of invalid multi-parcel sales dropped: 1346\n"
     ]
    }
   ],
   "source": [
    "sales_full['sale_size'] = sales_full.groupby(by=[\"Saledt\", \"SALES PRICE\", \"GRANTEE\"])[\"PARID\"].transform('count')\n",
    "sales_full[\"sales_price\"] = sales_full[\"SALES PRICE\"] / sales_full['sale_size']\n",
    "\n",
    "init_len = len(sales_full)\n",
    "sales_full = sales_full[~((sales_full[\"Saleval\"] == \"M\") & (sales_full[\"sale_size\"] == 1))]\n",
    "print(f\"Number of invalid multi-parcel sales dropped: {init_len - len(sales_full)}\")"
   ]
  },
  {
   "cell_type": "markdown",
   "metadata": {},
   "source": [
    "Verify multi-parcel sale calculation"
   ]
  },
  {
   "cell_type": "code",
   "execution_count": 52,
   "metadata": {},
   "outputs": [
    {
     "data": {
      "text/html": [
       "<div>\n",
       "<style scoped>\n",
       "    .dataframe tbody tr th:only-of-type {\n",
       "        vertical-align: middle;\n",
       "    }\n",
       "\n",
       "    .dataframe tbody tr th {\n",
       "        vertical-align: top;\n",
       "    }\n",
       "\n",
       "    .dataframe thead th {\n",
       "        text-align: right;\n",
       "    }\n",
       "</style>\n",
       "<table border=\"1\" class=\"dataframe\">\n",
       "  <thead>\n",
       "    <tr style=\"text-align: right;\">\n",
       "      <th></th>\n",
       "      <th>TAXYR</th>\n",
       "      <th>PARID</th>\n",
       "      <th>Luc</th>\n",
       "      <th>Saledt</th>\n",
       "      <th>SALES PRICE</th>\n",
       "      <th>FAIR MARKET VALUE</th>\n",
       "      <th>DEED TYPE</th>\n",
       "      <th>Costval</th>\n",
       "      <th>Saleval</th>\n",
       "      <th>GRANTOR</th>\n",
       "      <th>GRANTEE</th>\n",
       "      <th>M_flag</th>\n",
       "      <th>sale_size</th>\n",
       "      <th>sales_price</th>\n",
       "    </tr>\n",
       "  </thead>\n",
       "  <tbody>\n",
       "    <tr>\n",
       "      <th>121784</th>\n",
       "      <td>2017</td>\n",
       "      <td>14 024500010401</td>\n",
       "      <td>101</td>\n",
       "      <td>06-OCT-2016</td>\n",
       "      <td>42,350.000</td>\n",
       "      <td>42,300.000</td>\n",
       "      <td>SW</td>\n",
       "      <td>48,100</td>\n",
       "      <td>9</td>\n",
       "      <td>U S BANK NATL ASSN</td>\n",
       "      <td>SECRETARY OF HOUSING &amp; URBAN DEVELOPMENT</td>\n",
       "      <td>False</td>\n",
       "      <td>1</td>\n",
       "      <td>42,350.000</td>\n",
       "    </tr>\n",
       "    <tr>\n",
       "      <th>111078</th>\n",
       "      <td>2016</td>\n",
       "      <td>17 021500010129</td>\n",
       "      <td>101</td>\n",
       "      <td>30-NOV-2015</td>\n",
       "      <td>1,236,300.000</td>\n",
       "      <td>1,236,300.000</td>\n",
       "      <td>WD</td>\n",
       "      <td>2,022,200</td>\n",
       "      <td>9</td>\n",
       "      <td>BREMEN-BOWDON INVESTMENT CO</td>\n",
       "      <td>TED ASSOCIATES INC &amp;</td>\n",
       "      <td>False</td>\n",
       "      <td>1</td>\n",
       "      <td>1,236,300.000</td>\n",
       "    </tr>\n",
       "  </tbody>\n",
       "</table>\n",
       "</div>"
      ],
      "text/plain": [
       "        TAXYR            PARID  Luc       Saledt   SALES PRICE  \\\n",
       "121784   2017  14 024500010401  101  06-OCT-2016    42,350.000   \n",
       "111078   2016  17 021500010129  101  30-NOV-2015 1,236,300.000   \n",
       "\n",
       "        FAIR MARKET VALUE DEED TYPE    Costval Saleval  \\\n",
       "121784         42,300.000        SW     48,100       9   \n",
       "111078      1,236,300.000        WD  2,022,200       9   \n",
       "\n",
       "                            GRANTOR                                   GRANTEE  \\\n",
       "121784           U S BANK NATL ASSN  SECRETARY OF HOUSING & URBAN DEVELOPMENT   \n",
       "111078  BREMEN-BOWDON INVESTMENT CO                      TED ASSOCIATES INC &   \n",
       "\n",
       "        M_flag  sale_size   sales_price  \n",
       "121784   False          1    42,350.000  \n",
       "111078   False          1 1,236,300.000  "
      ]
     },
     "execution_count": 52,
     "metadata": {},
     "output_type": "execute_result"
    }
   ],
   "source": [
    "sales_full[sales_full[\"Saleval\"] != \"M\"].sample(2)"
   ]
  },
  {
   "cell_type": "code",
   "execution_count": 53,
   "metadata": {},
   "outputs": [
    {
     "data": {
      "text/html": [
       "<div>\n",
       "<style scoped>\n",
       "    .dataframe tbody tr th:only-of-type {\n",
       "        vertical-align: middle;\n",
       "    }\n",
       "\n",
       "    .dataframe tbody tr th {\n",
       "        vertical-align: top;\n",
       "    }\n",
       "\n",
       "    .dataframe thead th {\n",
       "        text-align: right;\n",
       "    }\n",
       "</style>\n",
       "<table border=\"1\" class=\"dataframe\">\n",
       "  <thead>\n",
       "    <tr style=\"text-align: right;\">\n",
       "      <th></th>\n",
       "      <th>TAXYR</th>\n",
       "      <th>PARID</th>\n",
       "      <th>Luc</th>\n",
       "      <th>Saledt</th>\n",
       "      <th>SALES PRICE</th>\n",
       "      <th>FAIR MARKET VALUE</th>\n",
       "      <th>DEED TYPE</th>\n",
       "      <th>Costval</th>\n",
       "      <th>Saleval</th>\n",
       "      <th>GRANTOR</th>\n",
       "      <th>GRANTEE</th>\n",
       "      <th>M_flag</th>\n",
       "      <th>sale_size</th>\n",
       "      <th>sales_price</th>\n",
       "    </tr>\n",
       "  </thead>\n",
       "  <tbody>\n",
       "    <tr>\n",
       "      <th>253753</th>\n",
       "      <td>2022</td>\n",
       "      <td>13 0132  LL1532</td>\n",
       "      <td>101</td>\n",
       "      <td>23-DEC-2021</td>\n",
       "      <td>3,200,288.000</td>\n",
       "      <td>102,100.000</td>\n",
       "      <td>LW</td>\n",
       "      <td>106,500</td>\n",
       "      <td>M</td>\n",
       "      <td>PPIII FM BORROWER LLC</td>\n",
       "      <td>PROMISE HOMES BORROWER I LLC</td>\n",
       "      <td>True</td>\n",
       "      <td>18</td>\n",
       "      <td>177,793.778</td>\n",
       "    </tr>\n",
       "    <tr>\n",
       "      <th>132464</th>\n",
       "      <td>2018</td>\n",
       "      <td>11 114004080988</td>\n",
       "      <td>101</td>\n",
       "      <td>28-FEB-2017</td>\n",
       "      <td>400,000.000</td>\n",
       "      <td>542,800.000</td>\n",
       "      <td>LW</td>\n",
       "      <td>562,700</td>\n",
       "      <td>M</td>\n",
       "      <td>JOHNS CREEK 206 LLC</td>\n",
       "      <td>TPG HOMES AT BELLMOORE LLC</td>\n",
       "      <td>True</td>\n",
       "      <td>2</td>\n",
       "      <td>200,000.000</td>\n",
       "    </tr>\n",
       "  </tbody>\n",
       "</table>\n",
       "</div>"
      ],
      "text/plain": [
       "        TAXYR            PARID  Luc       Saledt   SALES PRICE  \\\n",
       "253753   2022  13 0132  LL1532  101  23-DEC-2021 3,200,288.000   \n",
       "132464   2018  11 114004080988  101  28-FEB-2017   400,000.000   \n",
       "\n",
       "        FAIR MARKET VALUE DEED TYPE  Costval Saleval                GRANTOR  \\\n",
       "253753        102,100.000        LW  106,500       M  PPIII FM BORROWER LLC   \n",
       "132464        542,800.000        LW  562,700       M    JOHNS CREEK 206 LLC   \n",
       "\n",
       "                             GRANTEE  M_flag  sale_size  sales_price  \n",
       "253753  PROMISE HOMES BORROWER I LLC    True         18  177,793.778  \n",
       "132464    TPG HOMES AT BELLMOORE LLC    True          2  200,000.000  "
      ]
     },
     "execution_count": 53,
     "metadata": {},
     "output_type": "execute_result"
    }
   ],
   "source": [
    "sales_full[sales_full[\"Saleval\"] == \"M\"].sample(2)"
   ]
  },
  {
   "cell_type": "code",
   "execution_count": 54,
   "metadata": {},
   "outputs": [
    {
     "data": {
      "text/html": [
       "<div>\n",
       "<style scoped>\n",
       "    .dataframe tbody tr th:only-of-type {\n",
       "        vertical-align: middle;\n",
       "    }\n",
       "\n",
       "    .dataframe tbody tr th {\n",
       "        vertical-align: top;\n",
       "    }\n",
       "\n",
       "    .dataframe thead th {\n",
       "        text-align: right;\n",
       "    }\n",
       "</style>\n",
       "<table border=\"1\" class=\"dataframe\">\n",
       "  <thead>\n",
       "    <tr style=\"text-align: right;\">\n",
       "      <th></th>\n",
       "      <th>TAXYR</th>\n",
       "      <th>PARID</th>\n",
       "      <th>Luc</th>\n",
       "      <th>Saledt</th>\n",
       "      <th>SALES PRICE</th>\n",
       "      <th>FAIR MARKET VALUE</th>\n",
       "      <th>DEED TYPE</th>\n",
       "      <th>Costval</th>\n",
       "      <th>Saleval</th>\n",
       "      <th>GRANTOR</th>\n",
       "      <th>GRANTEE</th>\n",
       "      <th>M_flag</th>\n",
       "      <th>sale_size</th>\n",
       "      <th>sales_price</th>\n",
       "    </tr>\n",
       "  </thead>\n",
       "  <tbody>\n",
       "    <tr>\n",
       "      <th>137527</th>\n",
       "      <td>2018</td>\n",
       "      <td>14 003700010056</td>\n",
       "      <td>101</td>\n",
       "      <td>10-MAY-2017</td>\n",
       "      <td>265,500.000</td>\n",
       "      <td>33,000.000</td>\n",
       "      <td>WD</td>\n",
       "      <td>33,000</td>\n",
       "      <td>M</td>\n",
       "      <td>GCM SOUTHEASTERN LLC</td>\n",
       "      <td>BUDGET HOME RENTALS LLC</td>\n",
       "      <td>True</td>\n",
       "      <td>5</td>\n",
       "      <td>53,100.000</td>\n",
       "    </tr>\n",
       "    <tr>\n",
       "      <th>138501</th>\n",
       "      <td>2018</td>\n",
       "      <td>14 006000030336</td>\n",
       "      <td>101</td>\n",
       "      <td>10-MAY-2017</td>\n",
       "      <td>265,500.000</td>\n",
       "      <td>43,900.000</td>\n",
       "      <td>WD</td>\n",
       "      <td>43,900</td>\n",
       "      <td>M</td>\n",
       "      <td>GCM SOUTHEASTERN LLC</td>\n",
       "      <td>BUDGET HOME RENTALS LLC</td>\n",
       "      <td>True</td>\n",
       "      <td>5</td>\n",
       "      <td>53,100.000</td>\n",
       "    </tr>\n",
       "    <tr>\n",
       "      <th>137567</th>\n",
       "      <td>2018</td>\n",
       "      <td>14 003800030772</td>\n",
       "      <td>101</td>\n",
       "      <td>10-MAY-2017</td>\n",
       "      <td>265,500.000</td>\n",
       "      <td>43,700.000</td>\n",
       "      <td>WD</td>\n",
       "      <td>43,700</td>\n",
       "      <td>M</td>\n",
       "      <td>GCM SOUTHEASTERN LLC</td>\n",
       "      <td>BUDGET HOME RENTALS LLC</td>\n",
       "      <td>True</td>\n",
       "      <td>5</td>\n",
       "      <td>53,100.000</td>\n",
       "    </tr>\n",
       "    <tr>\n",
       "      <th>137576</th>\n",
       "      <td>2018</td>\n",
       "      <td>14 003800040292</td>\n",
       "      <td>101</td>\n",
       "      <td>10-MAY-2017</td>\n",
       "      <td>265,500.000</td>\n",
       "      <td>46,000.000</td>\n",
       "      <td>WD</td>\n",
       "      <td>46,000</td>\n",
       "      <td>M</td>\n",
       "      <td>GCM SOUTHEASTERN LLC</td>\n",
       "      <td>BUDGET HOME RENTALS LLC</td>\n",
       "      <td>True</td>\n",
       "      <td>5</td>\n",
       "      <td>53,100.000</td>\n",
       "    </tr>\n",
       "    <tr>\n",
       "      <th>137586</th>\n",
       "      <td>2018</td>\n",
       "      <td>14 003800050192</td>\n",
       "      <td>101</td>\n",
       "      <td>10-MAY-2017</td>\n",
       "      <td>265,500.000</td>\n",
       "      <td>34,800.000</td>\n",
       "      <td>WD</td>\n",
       "      <td>34,800</td>\n",
       "      <td>M</td>\n",
       "      <td>GCM SOUTHEASTERN LLC</td>\n",
       "      <td>BUDGET HOME RENTALS LLC</td>\n",
       "      <td>True</td>\n",
       "      <td>5</td>\n",
       "      <td>53,100.000</td>\n",
       "    </tr>\n",
       "  </tbody>\n",
       "</table>\n",
       "</div>"
      ],
      "text/plain": [
       "        TAXYR            PARID  Luc       Saledt  SALES PRICE  \\\n",
       "137527   2018  14 003700010056  101  10-MAY-2017  265,500.000   \n",
       "138501   2018  14 006000030336  101  10-MAY-2017  265,500.000   \n",
       "137567   2018  14 003800030772  101  10-MAY-2017  265,500.000   \n",
       "137576   2018  14 003800040292  101  10-MAY-2017  265,500.000   \n",
       "137586   2018  14 003800050192  101  10-MAY-2017  265,500.000   \n",
       "\n",
       "        FAIR MARKET VALUE DEED TYPE Costval Saleval               GRANTOR  \\\n",
       "137527         33,000.000        WD  33,000       M  GCM SOUTHEASTERN LLC   \n",
       "138501         43,900.000        WD  43,900       M  GCM SOUTHEASTERN LLC   \n",
       "137567         43,700.000        WD  43,700       M  GCM SOUTHEASTERN LLC   \n",
       "137576         46,000.000        WD  46,000       M  GCM SOUTHEASTERN LLC   \n",
       "137586         34,800.000        WD  34,800       M  GCM SOUTHEASTERN LLC   \n",
       "\n",
       "                        GRANTEE  M_flag  sale_size  sales_price  \n",
       "137527  BUDGET HOME RENTALS LLC    True          5   53,100.000  \n",
       "138501  BUDGET HOME RENTALS LLC    True          5   53,100.000  \n",
       "137567  BUDGET HOME RENTALS LLC    True          5   53,100.000  \n",
       "137576  BUDGET HOME RENTALS LLC    True          5   53,100.000  \n",
       "137586  BUDGET HOME RENTALS LLC    True          5   53,100.000  "
      ]
     },
     "execution_count": 54,
     "metadata": {},
     "output_type": "execute_result"
    }
   ],
   "source": [
    "sales_full[\n",
    "    (sales_full[\"Saledt\"] == \"10-MAY-2017\")\n",
    "    & (sales_full[\"SALES PRICE\"] == 265500)\n",
    "]"
   ]
  },
  {
   "cell_type": "markdown",
   "metadata": {},
   "source": [
    "Saleval codes after cleaning"
   ]
  },
  {
   "cell_type": "code",
   "execution_count": 55,
   "metadata": {},
   "outputs": [
    {
     "name": "stdout",
     "output_type": "stream",
     "text": [
      "Number of total sales records: 180692\n"
     ]
    },
    {
     "data": {
      "text/plain": [
       "Saleval\n",
       "0     116433\n",
       "9      12515\n",
       "5      11706\n",
       "3       9586\n",
       "RE      8034\n",
       "M       6491\n",
       "2       4642\n",
       "W       3515\n",
       "6       1165\n",
       "5A      1134\n",
       "Name: Saleval, dtype: int64"
      ]
     },
     "execution_count": 55,
     "metadata": {},
     "output_type": "execute_result"
    }
   ],
   "source": [
    "print(f\"Number of total sales records: {len(sales_full)}\")\n",
    "sales_full.groupby(\"Saleval\")[\"Saleval\"].count().sort_values(ascending=False).head(10)"
   ]
  },
  {
   "cell_type": "markdown",
   "metadata": {},
   "source": [
    "### Adjust sales price, fmv for inflation"
   ]
  },
  {
   "cell_type": "code",
   "execution_count": 56,
   "metadata": {},
   "outputs": [
    {
     "data": {
      "text/html": [
       "<div>\n",
       "<style scoped>\n",
       "    .dataframe tbody tr th:only-of-type {\n",
       "        vertical-align: middle;\n",
       "    }\n",
       "\n",
       "    .dataframe tbody tr th {\n",
       "        vertical-align: top;\n",
       "    }\n",
       "\n",
       "    .dataframe thead th {\n",
       "        text-align: right;\n",
       "    }\n",
       "</style>\n",
       "<table border=\"1\" class=\"dataframe\">\n",
       "  <thead>\n",
       "    <tr style=\"text-align: right;\">\n",
       "      <th></th>\n",
       "      <th>TAXYR</th>\n",
       "      <th>sales_price</th>\n",
       "      <th>price_adj</th>\n",
       "      <th>FAIR MARKET VALUE</th>\n",
       "      <th>fmv_adj</th>\n",
       "    </tr>\n",
       "  </thead>\n",
       "  <tbody>\n",
       "    <tr>\n",
       "      <th>188974</th>\n",
       "      <td>2020</td>\n",
       "      <td>350,000.000</td>\n",
       "      <td>404,239.145</td>\n",
       "      <td>339,400.000</td>\n",
       "      <td>391,996.474</td>\n",
       "    </tr>\n",
       "    <tr>\n",
       "      <th>270019</th>\n",
       "      <td>2022</td>\n",
       "      <td>4,250,000.000</td>\n",
       "      <td>4,524,312.057</td>\n",
       "      <td>3,867,100.000</td>\n",
       "      <td>4,116,698.154</td>\n",
       "    </tr>\n",
       "    <tr>\n",
       "      <th>124895</th>\n",
       "      <td>2017</td>\n",
       "      <td>185,000.000</td>\n",
       "      <td>227,424.057</td>\n",
       "      <td>147,500.000</td>\n",
       "      <td>181,324.586</td>\n",
       "    </tr>\n",
       "  </tbody>\n",
       "</table>\n",
       "</div>"
      ],
      "text/plain": [
       "        TAXYR   sales_price     price_adj  FAIR MARKET VALUE       fmv_adj\n",
       "188974   2020   350,000.000   404,239.145        339,400.000   391,996.474\n",
       "270019   2022 4,250,000.000 4,524,312.057      3,867,100.000 4,116,698.154\n",
       "124895   2017   185,000.000   227,424.057        147,500.000   181,324.586"
      ]
     },
     "execution_count": 56,
     "metadata": {},
     "output_type": "execute_result"
    }
   ],
   "source": [
    "sales_full[\"price_adj\"] = sales_full[\"sales_price\"] * (sales_full[\"TAXYR\"] - 1).map(inflation_scalar)\n",
    "sales_full[\"fmv_adj\"] = sales_full[\"FAIR MARKET VALUE\"] * (sales_full[\"TAXYR\"] - 1).map(inflation_scalar)\n",
    "sales_full[[\"TAXYR\", \"sales_price\", \"price_adj\", \"FAIR MARKET VALUE\", \"fmv_adj\"]].sample(3)"
   ]
  },
  {
   "cell_type": "markdown",
   "metadata": {},
   "source": [
    "## Save"
   ]
  },
  {
   "cell_type": "code",
   "execution_count": 57,
   "metadata": {},
   "outputs": [],
   "source": [
    "OUTPUT_PATH = 'output/'\n",
    "\n",
    "digest_full.to_parquet(OUTPUT_PATH + 'digest_full_clean.parquet')\n",
    "sales_full.to_parquet(OUTPUT_PATH + 'sales_full_clean.parquet')"
   ]
  }
 ],
 "metadata": {
  "kernelspec": {
   "display_name": "equity-extraction",
   "language": "python",
   "name": "python3"
  },
  "language_info": {
   "codemirror_mode": {
    "name": "ipython",
    "version": 3
   },
   "file_extension": ".py",
   "mimetype": "text/x-python",
   "name": "python",
   "nbconvert_exporter": "python",
   "pygments_lexer": "ipython3",
   "version": "3.12.1"
  }
 },
 "nbformat": 4,
 "nbformat_minor": 2
}
